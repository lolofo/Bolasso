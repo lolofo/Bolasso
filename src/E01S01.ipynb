{
 "cells": [
  {
   "cell_type": "code",
   "execution_count": 1,
   "metadata": {},
   "outputs": [],
   "source": [
    "%load_ext autoreload\n",
    "%autoreload 2\n",
    "\n",
    "import numpy as np\n",
    "from scipy.stats import multivariate_normal\n",
    "from scipy.stats import norm\n",
    "from sklearn.linear_model import Lasso\n",
    "from tqdm.notebook import tqdm\n",
    "import matplotlib.pyplot as plt\n",
    "import sys\n",
    "import os\n",
    "import pickle\n",
    "from time import time\n",
    "\n",
    "cwd = os.getcwd().split(os.path.sep)\n",
    "while cwd[-1] != \"Bolasso\":\n",
    "    os.chdir(\"..\")\n",
    "    cwd = os.getcwd().split(os.path.sep)\n",
    "\n",
    "from numba import jit"
   ]
  },
  {
   "cell_type": "code",
   "execution_count": 2,
   "metadata": {},
   "outputs": [],
   "source": [
    "# import the right librairies\n",
    "from utils.synthetic_data import generate_synthetic_data, load_data\n",
    "from utils.bolasso_algorithm import bolasso"
   ]
  },
  {
   "cell_type": "markdown",
   "metadata": {},
   "source": [
    "## Criterion (2) False"
   ]
  },
  {
   "cell_type": "code",
   "execution_count": 3,
   "metadata": {},
   "outputs": [
    {
     "name": "stdout",
     "output_type": "stream",
     "text": [
      ">> data loaded at : \n",
      " >> C:\\Users\\baptc\\Documents\\GM\\INSA\\3A\\S9\\Parcimonie\\articles\\Bolasso\\data\\criterion_2_non_ok.pkl\n"
     ]
    }
   ],
   "source": [
    "# load the data\n",
    "data = load_data(p = 16, r = 8, n = 1000, rep=256, cache_path = os.path.join(os.getcwd(), \"data\"), criterion_2 = False)"
   ]
  },
  {
   "cell_type": "code",
   "execution_count": 4,
   "metadata": {},
   "outputs": [
    {
     "data": {
      "text/plain": [
       "1.9519418940278"
      ]
     },
     "execution_count": 4,
     "metadata": {},
     "output_type": "execute_result"
    }
   ],
   "source": [
    "data[\"crit_2\"]"
   ]
  },
  {
   "cell_type": "markdown",
   "metadata": {},
   "source": [
    "### The simple Lasso - regression"
   ]
  },
  {
   "cell_type": "code",
   "execution_count": 5,
   "metadata": {},
   "outputs": [],
   "source": [
    "%%capture\n",
    "# do the multiple lasso regressions\n",
    "mu_range = np.exp(- np.linspace(0, 15, 50))\n",
    "final_grid = np.zeros((16, 50))\n",
    "for i in tqdm(range(100)):\n",
    "    X, y = data[\"X\"][i], data[\"Y\"][i]\n",
    "    for k in range(50):\n",
    "        mu = mu_range[k]\n",
    "        lasso_reg = Lasso(alpha=mu, max_iter=10000)\n",
    "        lasso_reg.fit(X, y)\n",
    "        coef = lasso_reg.coef_ \n",
    "        final_grid[:,k] += (coef != 0)*1\n",
    ";"
   ]
  },
  {
   "cell_type": "code",
   "execution_count": 6,
   "metadata": {},
   "outputs": [
    {
     "name": "stderr",
     "output_type": "stream",
     "text": [
      "C:\\Users\\baptc\\anaconda3\\lib\\site-packages\\matplotlib\\text.py:1223: FutureWarning: elementwise comparison failed; returning scalar instead, but in the future will perform elementwise comparison\n",
      "  if s != self._text:\n"
     ]
    },
    {
     "data": {
      "text/plain": [
       "''"
      ]
     },
     "execution_count": 6,
     "metadata": {},
     "output_type": "execute_result"
    },
    {
     "data": {
      "image/png": "[encoded data removed]",
      "text/plain": [
       "<Figure size 720x720 with 1 Axes>"
      ]
     },
     "metadata": {
      "needs_background": "light"
     },
     "output_type": "display_data"
    }
   ],
   "source": [
    "figure = plt.figure(figsize=(10,10))\n",
    "plt.imshow(1 - final_grid / 100, cmap=\"Greys\", vmin=0, vmax=1)\n",
    "ax = plt.gca()\n",
    "\n",
    "# the x-axis\n",
    "ax.set_xticks(range(50))\n",
    "ax.set_xlabel(np.linspace(0, 15, 50))\n",
    "ax.set_xlabel(\"$-log(\\mu)$\")\n",
    "d = dict(zip([0, 25, 49], [0, 5, 15]))\n",
    "x_label_list = [str(d[i]) if i in [0, 25, 49] else str(\"\") for i in range(50)]\n",
    "ax.set_xticklabels(x_label_list)\n",
    "ax.set_ylabel(\"Variable index\")\n",
    ";"
   ]
  },
  {
   "cell_type": "markdown",
   "metadata": {},
   "source": [
    "# Bolasso"
   ]
  },
  {
   "cell_type": "code",
   "execution_count": 7,
   "metadata": {},
   "outputs": [],
   "source": [
    "%%capture\n",
    "\n",
    "nb_rep = 100\n",
    "nb_mu = 50 # nu\n",
    "m = 128\n",
    "\n",
    "mu_range = np.exp(- np.linspace(0, 15, nb_mu))\n",
    "final_grid = np.zeros((16, nb_mu))\n",
    "for i in tqdm(range(nb_rep)):\n",
    "    X, y = data[\"X\"][i], data[\"Y\"][i]\n",
    "    for k in range(nb_mu):\n",
    "        mu = mu_range[k]\n",
    "        res = bolasso(X, y, m=m, mu=mu)\n",
    "        J = res[\"J\"] \n",
    "        final_grid[:,k] += (J != 0)*1\n"
   ]
  },
  {
   "cell_type": "code",
   "execution_count": 8,
   "metadata": {},
   "outputs": [
    {
     "name": "stderr",
     "output_type": "stream",
     "text": [
      "C:\\Users\\baptc\\anaconda3\\lib\\site-packages\\matplotlib\\text.py:1223: FutureWarning: elementwise comparison failed; returning scalar instead, but in the future will perform elementwise comparison\n",
      "  if s != self._text:\n"
     ]
    },
    {
     "data": {
      "text/plain": [
       "''"
      ]
     },
     "execution_count": 8,
     "metadata": {},
     "output_type": "execute_result"
    },
    {
     "data": {
      "image/png": "[encoded data removed]",
      "text/plain": [
       "<Figure size 720x720 with 1 Axes>"
      ]
     },
     "metadata": {
      "needs_background": "light"
     },
     "output_type": "display_data"
    }
   ],
   "source": [
    "figure = plt.figure(figsize=(10,10))\n",
    "plt.imshow(1 - final_grid / 100, cmap=\"Greys\", vmin=0, vmax=1)\n",
    "ax = plt.gca()\n",
    "\n",
    "# the x-axis\n",
    "ax.set_xticks(range(50))\n",
    "ax.set_xlabel(np.linspace(0, 15, 50))\n",
    "ax.set_xlabel(\"$-log(\\mu)$\")\n",
    "d = dict(zip([0, 25, 49], [0, 5, 15]))\n",
    "x_label_list = [str(d[i]) if i in [0, 25, 49] else str(\"\") for i in range(50)]\n",
    "ax.set_xticklabels(x_label_list)\n",
    "ax.set_ylabel(\"Variable index\")\n",
    ";"
   ]
  },
  {
   "cell_type": "markdown",
   "metadata": {},
   "source": [
    "## Criterion (2) : True"
   ]
  },
  {
   "cell_type": "code",
   "execution_count": 9,
   "metadata": {},
   "outputs": [
    {
     "name": "stdout",
     "output_type": "stream",
     "text": [
      ">> data loaded at : \n",
      " >> C:\\Users\\baptc\\Documents\\GM\\INSA\\3A\\S9\\Parcimonie\\articles\\Bolasso\\data\\criterion_2_ok.pkl\n"
     ]
    },
    {
     "data": {
      "text/plain": [
       "0.9151764636195251"
      ]
     },
     "execution_count": 9,
     "metadata": {},
     "output_type": "execute_result"
    }
   ],
   "source": [
    "# load the data\n",
    "data = load_data(p = 16, r = 8, n = 1000, rep=256, cache_path = os.path.join(os.getcwd(), \"data\"), criterion_2 = True)\n",
    "data[\"crit_2\"]"
   ]
  },
  {
   "cell_type": "markdown",
   "metadata": {},
   "source": [
    "### The simple Lasso - regression"
   ]
  },
  {
   "cell_type": "code",
   "execution_count": 10,
   "metadata": {},
   "outputs": [],
   "source": [
    "%%capture\n",
    "# do the multiple lasso regressions\n",
    "mu_range = np.exp(- np.linspace(0, 15, 50))\n",
    "final_grid = np.zeros((16, 50))\n",
    "for i in tqdm(range(100)):\n",
    "    X, y = data[\"X\"][i], data[\"Y\"][i]\n",
    "    for k in range(50):\n",
    "        mu = mu_range[k]\n",
    "        lasso_reg = Lasso(alpha=mu, max_iter=10000)\n",
    "        lasso_reg.fit(X, y)\n",
    "        coef = lasso_reg.coef_ \n",
    "        final_grid[:,k] += (coef != 0)*1\n",
    ";"
   ]
  },
  {
   "cell_type": "code",
   "execution_count": 11,
   "metadata": {},
   "outputs": [
    {
     "name": "stderr",
     "output_type": "stream",
     "text": [
      "C:\\Users\\baptc\\anaconda3\\lib\\site-packages\\matplotlib\\text.py:1223: FutureWarning: elementwise comparison failed; returning scalar instead, but in the future will perform elementwise comparison\n",
      "  if s != self._text:\n"
     ]
    },
    {
     "data": {
      "text/plain": [
       "''"
      ]
     },
     "execution_count": 11,
     "metadata": {},
     "output_type": "execute_result"
    },
    {
     "data": {
      "image/png": "[encoded data removed]",
      "text/plain": [
       "<Figure size 720x720 with 1 Axes>"
      ]
     },
     "metadata": {
      "needs_background": "light"
     },
     "output_type": "display_data"
    }
   ],
   "source": [
    "figure = plt.figure(figsize=(10,10))\n",
    "plt.imshow(1 - final_grid / 100, cmap=\"Greys\", vmin=0, vmax=1)\n",
    "ax = plt.gca()\n",
    "\n",
    "# the x-axis\n",
    "ax.set_xticks(range(50))\n",
    "ax.set_xlabel(np.linspace(0, 15, 50))\n",
    "ax.set_xlabel(\"$-log(\\mu)$\")\n",
    "d = dict(zip([0, 25, 49], [0, 5, 15]))\n",
    "x_label_list = [str(d[i]) if i in [0, 25, 49] else str(\"\") for i in range(50)]\n",
    "ax.set_xticklabels(x_label_list)\n",
    "ax.set_ylabel(\"Variable index\")\n",
    ";"
   ]
  },
  {
   "cell_type": "markdown",
   "metadata": {},
   "source": [
    "# Bolasso"
   ]
  },
  {
   "cell_type": "code",
   "execution_count": 12,
   "metadata": {},
   "outputs": [],
   "source": [
    "%%capture\n",
    "\n",
    "nb_rep = 100\n",
    "nb_mu = 50 # nu\n",
    "m = 128\n",
    "\n",
    "mu_range = np.exp(- np.linspace(0, 15, nb_mu))\n",
    "final_grid = np.zeros((16, nb_mu))\n",
    "for i in tqdm(range(nb_rep)):\n",
    "    X, y = data[\"X\"][i], data[\"Y\"][i]\n",
    "    for k in range(nb_mu):\n",
    "        mu = mu_range[k]\n",
    "        res = bolasso(X, y, m=m, mu=mu)\n",
    "        J = res[\"J\"] \n",
    "        final_grid[:,k] += (J != 0)*1\n"
   ]
  },
  {
   "cell_type": "code",
   "execution_count": 13,
   "metadata": {},
   "outputs": [
    {
     "name": "stderr",
     "output_type": "stream",
     "text": [
      "C:\\Users\\baptc\\anaconda3\\lib\\site-packages\\matplotlib\\text.py:1223: FutureWarning: elementwise comparison failed; returning scalar instead, but in the future will perform elementwise comparison\n",
      "  if s != self._text:\n"
     ]
    },
    {
     "data": {
      "text/plain": [
       "''"
      ]
     },
     "execution_count": 13,
     "metadata": {},
     "output_type": "execute_result"
    },
    {
     "data": {
      "image/png": "[encoded data removed]",
      "text/plain": [
       "<Figure size 720x720 with 1 Axes>"
      ]
     },
     "metadata": {
      "needs_background": "light"
     },
     "output_type": "display_data"
    }
   ],
   "source": [
    "figure = plt.figure(figsize=(10,10))\n",
    "plt.imshow(1 - final_grid / 100, cmap=\"Greys\", vmin=0, vmax=1)\n",
    "ax = plt.gca()\n",
    "\n",
    "# the x-axis\n",
    "ax.set_xticks(range(50))\n",
    "ax.set_xlabel(np.linspace(0, 15, 50))\n",
    "ax.set_xlabel(\"$-log(\\mu)$\")\n",
    "d = dict(zip([0, 25, 49], [0, 5, 15]))\n",
    "x_label_list = [str(d[i]) if i in [0, 25, 49] else str(\"\") for i in range(50)]\n",
    "ax.set_xticklabels(x_label_list)\n",
    "ax.set_ylabel(\"Variable index\")\n",
    ";"
   ]
  },
  {
   "cell_type": "markdown",
   "metadata": {},
   "source": [
    "# Speed up Bolasso with numba (code optimizer / parallel computing)"
   ]
  },
  {
   "cell_type": "code",
   "execution_count": null,
   "metadata": {},
   "outputs": [],
   "source": [
    "%%capture\n",
    "\n",
    "data_non_ok = data.copy() \n",
    "\n",
    "start = time()\n",
    "nb_rep = 100\n",
    "nb_mu = 50 # nu\n",
    "m = 128\n",
    "\n",
    "mu_range = np.exp(- np.linspace(0, 15, nb_mu))\n",
    "final_grid_non_ok = np.zeros((16, nb_mu))\n",
    "\n",
    "@jit(parallel=True)\n",
    "def bolasso_it(X, y):   \n",
    "    intermediate_grid = np.zeros((16, nb_mu))\n",
    "    for k in range(nb_mu):\n",
    "        mu = mu_range[k]\n",
    "        res = bolasso(X, y, m=m, mu=mu)\n",
    "        J = res[\"J\"] \n",
    "        intermediate_grid[:,k] = (J != 0)*1\n",
    "    return intermediate_grid\n",
    "\n",
    "list_grid_non_ok = []\n",
    "list_X_non_ok = data_non_ok['X']\n",
    "list_Y_non_ok = data_non_ok['Y']\n",
    "\n",
    "for X, y in tqdm(zip(list_X_non_ok, list_Y_non_ok)):\n",
    "    list_grid_non_ok.append(bolasso_it(X, y))\n",
    "        \n",
    "list_grid_non_ok = np.array(list_grid_non_ok)\n",
    "final_grid_non_ok = np.sum(list_grid_non_ok, axis = 0)\n",
    "end = time()"
   ]
  },
  {
   "cell_type": "code",
   "execution_count": null,
   "metadata": {},
   "outputs": [],
   "source": []
  }
 ],
 "metadata": {
  "kernelspec": {
   "display_name": "Python 3 (ipykernel)",
   "language": "python",
   "name": "python3"
  },
  "language_info": {
   "codemirror_mode": {
    "name": "ipython",
    "version": 3
   },
   "file_extension": ".py",
   "mimetype": "text/x-python",
   "name": "python",
   "nbconvert_exporter": "python",
   "pygments_lexer": "ipython3",
   "version": "3.8.5"
  },
  "vscode": {
   "interpreter": {
    "hash": "2d610bfb5330843e52c6b1e4272056feeee60e4b747e8cd36530d5e655bea6e2"
   }
  }
 },
 "nbformat": 4,
 "nbformat_minor": 2
}
