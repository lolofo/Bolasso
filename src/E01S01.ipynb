{
 "cells": [
  {
   "cell_type": "code",
   "execution_count": 1,
   "metadata": {},
   "outputs": [],
   "source": [
    "%load_ext autoreload\n",
    "%autoreload 2\n",
    "\n",
    "import numpy as np\n",
    "from scipy.stats import multivariate_normal\n",
    "from scipy.stats import norm\n",
    "from sklearn.linear_model import Lasso\n",
    "from tqdm.notebook import tqdm\n",
    "import matplotlib.pyplot as plt\n",
    "import sys\n",
    "import os\n",
    "import pickle\n",
    "from time import time\n",
    "\n",
    "cwd = os.getcwd().split(os.path.sep)\n",
    "while cwd[-1] != \"Bolasso\":\n",
    "    os.chdir(\"..\")\n",
    "    cwd = os.getcwd().split(os.path.sep)\n",
    "\n",
    "#from numba import jit"
   ]
  },
  {
   "cell_type": "code",
   "execution_count": 2,
   "metadata": {},
   "outputs": [],
   "source": [
    "# import the right librairies\n",
    "from utils.synthetic_data import generate_synthetic_data, load_data\n",
    "from utils.bolasso_algorithm import bolasso"
   ]
  },
  {
   "cell_type": "code",
   "execution_count": 6,
   "metadata": {},
   "outputs": [
    {
     "name": "stdout",
     "output_type": "stream",
     "text": [
      "Help on function bolasso in module utils.bolasso_algorithm:\n",
      "\n",
      "bolasso(X: numpy.ndarray, Y: numpy.ndarray, m: int, mu: float, verbose: bool = True) -> Dict[str, numpy.ndarray]\n",
      "    bolasso\n",
      "    \n",
      "    Args:\n",
      "        X (np.ndarray): The dataset we'll use\n",
      "        Y (np.ndarray): the target variable\n",
      "        m (int): number of bootstrap\n",
      "        mu (float): regularization coefficient for the lasso regularization\n",
      "\n"
     ]
    }
   ],
   "source": [
    "help(bolasso)"
   ]
  },
  {
   "cell_type": "markdown",
   "metadata": {},
   "source": [
    "## Criterion (2) False"
   ]
  },
  {
   "cell_type": "code",
   "execution_count": 3,
   "metadata": {},
   "outputs": [
    {
     "name": "stdout",
     "output_type": "stream",
     "text": [
      ">> create data with criterion (2) to : False\n"
     ]
    },
    {
     "name": "stderr",
     "output_type": "stream",
     "text": [
      "100%|██████████| 256/256 [00:00<00:00, 686.39it/s]"
     ]
    },
    {
     "name": "stdout",
     "output_type": "stream",
     "text": [
      "\t >>  False\n",
      ">> data created with criterion (2) : 1.4119568920935204\n",
      ">> data saved : ready to use and re-use\n"
     ]
    },
    {
     "name": "stderr",
     "output_type": "stream",
     "text": [
      "\n"
     ]
    }
   ],
   "source": [
    "# load the data\n",
    "data = load_data(p = 16, r = 8, n = 1000, rep=256, cache_path = os.path.join(os.getcwd(), \"data\"), criterion_2 = False)"
   ]
  },
  {
   "cell_type": "markdown",
   "metadata": {},
   "source": [
    "### The simple Lasso - regression"
   ]
  },
  {
   "cell_type": "code",
   "execution_count": 4,
   "metadata": {},
   "outputs": [],
   "source": [
    "%%capture\n",
    "# do the multiple lasso regressions\n",
    "mu_range = np.exp(- np.linspace(0, 15, 50))\n",
    "final_grid = np.zeros((16, 50))\n",
    "for i in tqdm(range(256)):\n",
    "    X, y = data[\"X\"][i], data[\"Y\"][i]\n",
    "    for k in range(50):\n",
    "        mu = mu_range[k]\n",
    "        lasso_reg = Lasso(alpha=mu, max_iter=10000)\n",
    "        lasso_reg.fit(X, y)\n",
    "        coef = lasso_reg.coef_ \n",
    "        final_grid[:,k] += (coef != 0)*1\n",
    ";"
   ]
  },
  {
   "cell_type": "code",
   "execution_count": 5,
   "metadata": {},
   "outputs": [
    {
     "name": "stderr",
     "output_type": "stream",
     "text": [
      "c:\\Users\\loicf\\miniconda3\\envs\\nlp\\lib\\site-packages\\matplotlib\\text.py:1165: FutureWarning: elementwise comparison failed; returning scalar instead, but in the future will perform elementwise comparison\n",
      "  if s != self._text:\n"
     ]
    },
    {
     "data": {
      "text/plain": [
       "''"
      ]
     },
     "execution_count": 5,
     "metadata": {},
     "output_type": "execute_result"
    },
    {
     "data": {
      "image/png": "[encoded data removed]",
      "text/plain": [
       "<Figure size 720x720 with 1 Axes>"
      ]
     },
     "metadata": {
      "needs_background": "light"
     },
     "output_type": "display_data"
    }
   ],
   "source": [
    "figure = plt.figure(figsize=(10,10))\n",
    "plt.imshow(1 - final_grid / 256, cmap=\"Greys\", vmin=0, vmax=1)\n",
    "ax = plt.gca()\n",
    "\n",
    "# the x-axis\n",
    "ax.set_xticks(range(50))\n",
    "ax.set_xlabel(np.linspace(0, 15, 50))\n",
    "ax.set_xlabel(\"$-log(\\mu)$\")\n",
    "d = dict(zip([0, 25, 49], [0, 5, 15]))\n",
    "x_label_list = [str(d[i]) if i in [0, 25, 49] else str(\"\") for i in range(50)]\n",
    "ax.set_xticklabels(x_label_list)\n",
    "ax.set_ylabel(\"Variable index\")\n",
    ";"
   ]
  },
  {
   "attachments": {},
   "cell_type": "markdown",
   "metadata": {},
   "source": [
    "### The bolasso - regression"
   ]
  },
  {
   "cell_type": "code",
   "execution_count": 10,
   "metadata": {},
   "outputs": [],
   "source": [
    "%%capture\n",
    "# do the multiple lasso regressions\n",
    "mu_range = np.exp(- np.linspace(0, 15, 50))\n",
    "final_grid = np.zeros((16, 50))\n",
    "for i in tqdm(range(100)):\n",
    "    X, y = data[\"X\"][i], data[\"Y\"][i]\n",
    "    for k in range(50):\n",
    "        mu = mu_range[k]\n",
    "        res = bolasso(X, y, 128, mu)\n",
    "        final_grid[:,k] += (coef != 0)*1\n",
    ";"
   ]
  },
  {
   "cell_type": "code",
   "execution_count": 13,
   "metadata": {},
   "outputs": [
    {
     "data": {
      "text/plain": [
       "''"
      ]
     },
     "execution_count": 13,
     "metadata": {},
     "output_type": "execute_result"
    },
    {
     "data": {
      "image/png": "[encoded data removed]",
      "text/plain": [
       "<Figure size 720x720 with 1 Axes>"
      ]
     },
     "metadata": {
      "needs_background": "light"
     },
     "output_type": "display_data"
    }
   ],
   "source": [
    "figure = plt.figure(figsize=(10,10))\n",
    "plt.imshow(1 - final_grid / 100, cmap=\"Greys\", vmin=0, vmax=1)\n",
    "ax = plt.gca()\n",
    "\n",
    "# the x-axis\n",
    "ax.set_xticks(range(50))\n",
    "ax.set_xlabel(np.linspace(0, 15, 50))\n",
    "ax.set_xlabel(\"$-log(\\mu)$\")\n",
    "d = dict(zip([0, 25, 49], [0, 5, 15]))\n",
    "x_label_list = [str(d[i]) if i in [0, 25, 49] else str(\"\") for i in range(50)]\n",
    "ax.set_xticklabels(x_label_list)\n",
    "ax.set_ylabel(\"Variable index\")\n",
    ";"
   ]
  },
  {
   "cell_type": "markdown",
   "metadata": {},
   "source": [
    "## Criterion (2) : True"
   ]
  },
  {
   "cell_type": "code",
   "execution_count": 7,
   "metadata": {},
   "outputs": [
    {
     "name": "stdout",
     "output_type": "stream",
     "text": [
      ">> data loaded at : \n",
      " >> C:\\Users\\baptc\\Documents\\GM\\INSA\\3A\\S9\\Parcimonie\\articles\\Bolasso\\data\\criterion_2_ok.pkl\n"
     ]
    },
    {
     "data": {
      "text/plain": [
       "0.7543696411267483"
      ]
     },
     "execution_count": 7,
     "metadata": {},
     "output_type": "execute_result"
    }
   ],
   "source": [
    "# load the data\n",
    "data = load_data(p = 16, r = 8, n = 1000, rep=256, cache_path = os.path.join(os.getcwd(), \"data\"), criterion_2 = True)\n",
    "data[\"crit_2\"]"
   ]
  },
  {
   "attachments": {},
   "cell_type": "markdown",
   "metadata": {},
   "source": [
    "### The simple Lasso regression"
   ]
  },
  {
   "cell_type": "code",
   "execution_count": null,
   "metadata": {},
   "outputs": [],
   "source": []
  },
  {
   "cell_type": "code",
   "execution_count": null,
   "metadata": {},
   "outputs": [],
   "source": []
  },
  {
   "cell_type": "code",
   "execution_count": null,
   "metadata": {},
   "outputs": [],
   "source": []
  },
  {
   "attachments": {},
   "cell_type": "markdown",
   "metadata": {},
   "source": [
    "### Bolasso - regression"
   ]
  },
  {
   "cell_type": "code",
   "execution_count": 10,
   "metadata": {},
   "outputs": [],
   "source": [
    "%%capture\n",
    "\n",
    "nb_rep = 100\n",
    "nb_mu = 50 # nu\n",
    "m = 128\n",
    "\n",
    "mu_range = np.exp(- np.linspace(0, 15, nb_mu))\n",
    "final_grid = np.zeros((16, nb_mu))\n",
    "for i in tqdm(range(nb_rep)):\n",
    "    X, y = data[\"X\"][i], data[\"Y\"][i]\n",
    "    for k in range(nb_mu):\n",
    "        mu = mu_range[k]\n",
    "        res = bolasso(X, y, m=m, mu=mu)\n",
    "        coef = res[\"coef\"] \n",
    "        final_grid[:,k] += (coef != 0)*1\n"
   ]
  },
  {
   "cell_type": "code",
   "execution_count": 11,
   "metadata": {},
   "outputs": [
    {
     "name": "stderr",
     "output_type": "stream",
     "text": [
      "C:\\Users\\baptc\\anaconda3\\lib\\site-packages\\matplotlib\\text.py:1223: FutureWarning: elementwise comparison failed; returning scalar instead, but in the future will perform elementwise comparison\n",
      "  if s != self._text:\n"
     ]
    },
    {
     "data": {
      "text/plain": [
       "''"
      ]
     },
     "execution_count": 11,
     "metadata": {},
     "output_type": "execute_result"
    },
    {
     "data": {
      "image/png": "[encoded data removed]",
      "text/plain": [
       "<Figure size 720x720 with 1 Axes>"
      ]
     },
     "metadata": {
      "needs_background": "light"
     },
     "output_type": "display_data"
    }
   ],
   "source": [
    "figure = plt.figure(figsize=(10,10))\n",
    "plt.imshow(1 - final_grid / 100, cmap=\"Greys\", vmin=0, vmax=1)\n",
    "ax = plt.gca()\n",
    "\n",
    "# the x-axis\n",
    "ax.set_xticks(range(50))\n",
    "ax.set_xlabel(np.linspace(0, 15, 50))\n",
    "ax.set_xlabel(\"$-log(\\mu)$\")\n",
    "d = dict(zip([0, 25, 49], [0, 5, 15]))\n",
    "x_label_list = [str(d[i]) if i in [0, 25, 49] else str(\"\") for i in range(50)]\n",
    "ax.set_xticklabels(x_label_list)\n",
    "ax.set_ylabel(\"Variable index\")\n",
    ";"
   ]
  },
  {
   "cell_type": "code",
   "execution_count": 19,
   "metadata": {
    "scrolled": true
   },
   "outputs": [],
   "source": [
    "%%capture\n",
    "\n",
    "data_ok = data.copy() \n",
    "\n",
    "start = time()\n",
    "nb_rep = 256\n",
    "nb_mu = 50 # nu\n",
    "m = 128\n",
    "\n",
    "mu_range = np.exp(- np.linspace(0, 15, nb_mu))\n",
    "final_grid_ok = np.zeros((16, nb_mu))\n",
    "\n",
    "@jit(parallel=True)\n",
    "def bolasso_it(X, y):   \n",
    "    intermediate_grid = np.zeros((16, nb_mu))\n",
    "    for k in range(nb_mu):\n",
    "        mu = mu_range[k]\n",
    "        res = bolasso(X, y, m=m, mu=mu)\n",
    "        coef = res[\"coef\"] \n",
    "        intermediate_grid[:,k] = (coef != 0)*1\n",
    "    return intermediate_grid\n",
    "\n",
    "list_grid_ok = []\n",
    "list_X_ok = data_ok['X']\n",
    "list_Y_ok = data_ok['Y']\n",
    "\n",
    "for X, y in tqdm(zip(list_X_ok[:10], list_Y_ok[:10])):\n",
    "    list_grid_ok.append(bolasso_it(X, y))\n",
    "        \n",
    "list_grid_ok = np.array(list_grid_ok)\n",
    "final_grid_ok = np.sum(list_grid_ok, axis = 0)\n",
    "end = time()"
   ]
  },
  {
   "cell_type": "code",
   "execution_count": 20,
   "metadata": {},
   "outputs": [
    {
     "name": "stdout",
     "output_type": "stream",
     "text": [
      "temps d'execution 169.5240261554718 , \n",
      "temps par rep: 0.6622032271698117\n"
     ]
    }
   ],
   "source": [
    "print(f\"temps d'execution {end - start} , \\ntemps par rep: {(end - start)/nb_rep}\")"
   ]
  },
  {
   "cell_type": "code",
   "execution_count": 21,
   "metadata": {},
   "outputs": [
    {
     "name": "stderr",
     "output_type": "stream",
     "text": [
      "C:\\Users\\baptc\\anaconda3\\lib\\site-packages\\matplotlib\\text.py:1223: FutureWarning: elementwise comparison failed; returning scalar instead, but in the future will perform elementwise comparison\n",
      "  if s != self._text:\n"
     ]
    },
    {
     "data": {
      "text/plain": [
       "''"
      ]
     },
     "execution_count": 21,
     "metadata": {},
     "output_type": "execute_result"
    },
    {
     "data": {
      "image/png": "[encoded data removed]",
      "text/plain": [
       "<Figure size 720x720 with 1 Axes>"
      ]
     },
     "metadata": {
      "needs_background": "light"
     },
     "output_type": "display_data"
    }
   ],
   "source": [
    "figure = plt.figure(figsize=(10,10))\n",
    "plt.imshow(1 - final_grid / 10, cmap=\"Greys\", vmin=0, vmax=1)\n",
    "ax = plt.gca()\n",
    "\n",
    "# the x-axis\n",
    "ax.set_xticks(range(50))\n",
    "ax.set_xlabel(np.linspace(0, 15, 50))\n",
    "ax.set_xlabel(\"$-log(\\mu)$\")\n",
    "d = dict(zip([0, 25, 49], [0, 5, 15]))\n",
    "x_label_list = [str(d[i]) if i in [0, 25, 49] else str(\"\") for i in range(50)]\n",
    "ax.set_xticklabels(x_label_list)\n",
    "ax.set_ylabel(\"Variable index\")\n",
    ";"
   ]
  },
  {
   "cell_type": "code",
   "execution_count": 15,
   "metadata": {
    "scrolled": true
   },
   "outputs": [
    {
     "name": "stderr",
     "output_type": "stream",
     "text": [
      "C:\\Users\\baptc\\AppData\\Local\\Temp\\ipykernel_7596\\3965553820.py:2: RuntimeWarning: divide by zero encountered in true_divide\n",
      "  plt.imshow((1 - final_grid_ok) / final_grid_ok, cmap=\"Greys\", vmin=0, vmax=1)\n"
     ]
    },
    {
     "data": {
      "text/plain": [
       "''"
      ]
     },
     "execution_count": 15,
     "metadata": {},
     "output_type": "execute_result"
    },
    {
     "data": {
      "image/png": "[encoded data removed]",
      "text/plain": [
       "<Figure size 720x720 with 1 Axes>"
      ]
     },
     "metadata": {
      "needs_background": "light"
     },
     "output_type": "display_data"
    }
   ],
   "source": [
    "figure = plt.figure(figsize=(10,10))\n",
    "plt.imshow((1 - final_grid_ok) / final_grid_ok, cmap=\"Greys\", vmin=0, vmax=1)\n",
    "ax = plt.gca()\n",
    "\n",
    "# the x-axis\n",
    "ax.set_xticks(range(nb_mu))\n",
    "ax.set_xlabel(np.linspace(0, 15, 10))\n",
    "ax.set_xlabel(\"$-log(\\mu)$\")\n",
    "\n",
    "d = dict(zip([0, 25, 49], [0, 5, 15]))\n",
    "\n",
    "x_label_list = [str(d[i]) if i in [0, 25, 49] else str(\"\") for i in range(nb_mu)]\n",
    "ax.set_xticklabels(x_label_list)\n",
    "ax.set_ylabel(\"Variable index\")\n",
    ";"
   ]
  },
  {
   "cell_type": "code",
   "execution_count": 14,
   "metadata": {
    "scrolled": true
   },
   "outputs": [
    {
     "ename": "ValueError",
     "evalue": "Found array with 0 feature(s) (shape=(1000, 0)) while a minimum of 1 is required by LinearRegression.",
     "output_type": "error",
     "traceback": [
      "\u001b[1;31m---------------------------------------------------------------------------\u001b[0m",
      "\u001b[1;31mValueError\u001b[0m                                Traceback (most recent call last)",
      "Input \u001b[1;32mIn [14]\u001b[0m, in \u001b[0;36m<cell line: 25>\u001b[1;34m()\u001b[0m\n\u001b[0;32m     23\u001b[0m list_Y_non_ok \u001b[38;5;241m=\u001b[39m data_non_ok[\u001b[38;5;124m'\u001b[39m\u001b[38;5;124mY\u001b[39m\u001b[38;5;124m'\u001b[39m]\n\u001b[0;32m     25\u001b[0m \u001b[38;5;28;01mfor\u001b[39;00m X, y \u001b[38;5;129;01min\u001b[39;00m tqdm(\u001b[38;5;28mzip\u001b[39m(list_X_non_ok, list_Y_non_ok)):\n\u001b[1;32m---> 26\u001b[0m     list_grid_non_ok\u001b[38;5;241m.\u001b[39mappend(\u001b[43mbolasso_it\u001b[49m\u001b[43m(\u001b[49m\u001b[43mX\u001b[49m\u001b[43m,\u001b[49m\u001b[43m \u001b[49m\u001b[43my\u001b[49m\u001b[43m)\u001b[49m)\n\u001b[0;32m     28\u001b[0m list_grid_non_ok \u001b[38;5;241m=\u001b[39m np\u001b[38;5;241m.\u001b[39marray(list_grid_non_ok)\n\u001b[0;32m     29\u001b[0m final_grid_non_ok \u001b[38;5;241m=\u001b[39m np\u001b[38;5;241m.\u001b[39msum(list_grid_non_ok, axis \u001b[38;5;241m=\u001b[39m \u001b[38;5;241m0\u001b[39m)\n",
      "File \u001b[1;32m~\\Documents\\GM\\INSA\\3A\\S9\\Parcimonie\\articles\\Bolasso\\utils\\bolasso_algorithm.py:33\u001b[0m, in \u001b[0;36mbolasso\u001b[1;34m(X, Y, m, mu)\u001b[0m\n\u001b[0;32m     30\u001b[0m J \u001b[38;5;241m=\u001b[39m np\u001b[38;5;241m.\u001b[39mlogical_or(sg_1, sg_3)\n\u001b[0;32m     32\u001b[0m final_model \u001b[38;5;241m=\u001b[39m LinearRegression()\n\u001b[1;32m---> 33\u001b[0m \u001b[43mfinal_model\u001b[49m\u001b[38;5;241;43m.\u001b[39;49m\u001b[43mfit\u001b[49m\u001b[43m(\u001b[49m\u001b[43mX\u001b[49m\u001b[43m[\u001b[49m\u001b[43m:\u001b[49m\u001b[43m,\u001b[49m\u001b[43m \u001b[49m\u001b[43mJ\u001b[49m\u001b[43m]\u001b[49m\u001b[43m,\u001b[49m\u001b[43m \u001b[49m\u001b[43mY\u001b[49m\u001b[43m)\u001b[49m\n\u001b[0;32m     35\u001b[0m coef \u001b[38;5;241m=\u001b[39m np\u001b[38;5;241m.\u001b[39mzeros(X\u001b[38;5;241m.\u001b[39mshape[\u001b[38;5;241m1\u001b[39m])\n\u001b[0;32m     36\u001b[0m coef[J] \u001b[38;5;241m=\u001b[39m final_model\u001b[38;5;241m.\u001b[39mcoef_ \n",
      "File \u001b[1;32m~\\anaconda3\\lib\\site-packages\\sklearn\\linear_model\\_base.py:684\u001b[0m, in \u001b[0;36mLinearRegression.fit\u001b[1;34m(self, X, y, sample_weight)\u001b[0m\n\u001b[0;32m    680\u001b[0m n_jobs_ \u001b[38;5;241m=\u001b[39m \u001b[38;5;28mself\u001b[39m\u001b[38;5;241m.\u001b[39mn_jobs\n\u001b[0;32m    682\u001b[0m accept_sparse \u001b[38;5;241m=\u001b[39m \u001b[38;5;28;01mFalse\u001b[39;00m \u001b[38;5;28;01mif\u001b[39;00m \u001b[38;5;28mself\u001b[39m\u001b[38;5;241m.\u001b[39mpositive \u001b[38;5;28;01melse\u001b[39;00m [\u001b[38;5;124m\"\u001b[39m\u001b[38;5;124mcsr\u001b[39m\u001b[38;5;124m\"\u001b[39m, \u001b[38;5;124m\"\u001b[39m\u001b[38;5;124mcsc\u001b[39m\u001b[38;5;124m\"\u001b[39m, \u001b[38;5;124m\"\u001b[39m\u001b[38;5;124mcoo\u001b[39m\u001b[38;5;124m\"\u001b[39m]\n\u001b[1;32m--> 684\u001b[0m X, y \u001b[38;5;241m=\u001b[39m \u001b[38;5;28;43mself\u001b[39;49m\u001b[38;5;241;43m.\u001b[39;49m\u001b[43m_validate_data\u001b[49m\u001b[43m(\u001b[49m\n\u001b[0;32m    685\u001b[0m \u001b[43m    \u001b[49m\u001b[43mX\u001b[49m\u001b[43m,\u001b[49m\u001b[43m \u001b[49m\u001b[43my\u001b[49m\u001b[43m,\u001b[49m\u001b[43m \u001b[49m\u001b[43maccept_sparse\u001b[49m\u001b[38;5;241;43m=\u001b[39;49m\u001b[43maccept_sparse\u001b[49m\u001b[43m,\u001b[49m\u001b[43m \u001b[49m\u001b[43my_numeric\u001b[49m\u001b[38;5;241;43m=\u001b[39;49m\u001b[38;5;28;43;01mTrue\u001b[39;49;00m\u001b[43m,\u001b[49m\u001b[43m \u001b[49m\u001b[43mmulti_output\u001b[49m\u001b[38;5;241;43m=\u001b[39;49m\u001b[38;5;28;43;01mTrue\u001b[39;49;00m\n\u001b[0;32m    686\u001b[0m \u001b[43m\u001b[49m\u001b[43m)\u001b[49m\n\u001b[0;32m    688\u001b[0m sample_weight \u001b[38;5;241m=\u001b[39m _check_sample_weight(\n\u001b[0;32m    689\u001b[0m     sample_weight, X, dtype\u001b[38;5;241m=\u001b[39mX\u001b[38;5;241m.\u001b[39mdtype, only_non_negative\u001b[38;5;241m=\u001b[39m\u001b[38;5;28;01mTrue\u001b[39;00m\n\u001b[0;32m    690\u001b[0m )\n\u001b[0;32m    692\u001b[0m X, y, X_offset, y_offset, X_scale \u001b[38;5;241m=\u001b[39m _preprocess_data(\n\u001b[0;32m    693\u001b[0m     X,\n\u001b[0;32m    694\u001b[0m     y,\n\u001b[1;32m   (...)\u001b[0m\n\u001b[0;32m    698\u001b[0m     sample_weight\u001b[38;5;241m=\u001b[39msample_weight,\n\u001b[0;32m    699\u001b[0m )\n",
      "File \u001b[1;32m~\\anaconda3\\lib\\site-packages\\sklearn\\base.py:596\u001b[0m, in \u001b[0;36mBaseEstimator._validate_data\u001b[1;34m(self, X, y, reset, validate_separately, **check_params)\u001b[0m\n\u001b[0;32m    594\u001b[0m         y \u001b[38;5;241m=\u001b[39m check_array(y, input_name\u001b[38;5;241m=\u001b[39m\u001b[38;5;124m\"\u001b[39m\u001b[38;5;124my\u001b[39m\u001b[38;5;124m\"\u001b[39m, \u001b[38;5;241m*\u001b[39m\u001b[38;5;241m*\u001b[39mcheck_y_params)\n\u001b[0;32m    595\u001b[0m     \u001b[38;5;28;01melse\u001b[39;00m:\n\u001b[1;32m--> 596\u001b[0m         X, y \u001b[38;5;241m=\u001b[39m \u001b[43mcheck_X_y\u001b[49m\u001b[43m(\u001b[49m\u001b[43mX\u001b[49m\u001b[43m,\u001b[49m\u001b[43m \u001b[49m\u001b[43my\u001b[49m\u001b[43m,\u001b[49m\u001b[43m \u001b[49m\u001b[38;5;241;43m*\u001b[39;49m\u001b[38;5;241;43m*\u001b[39;49m\u001b[43mcheck_params\u001b[49m\u001b[43m)\u001b[49m\n\u001b[0;32m    597\u001b[0m     out \u001b[38;5;241m=\u001b[39m X, y\n\u001b[0;32m    599\u001b[0m \u001b[38;5;28;01mif\u001b[39;00m \u001b[38;5;129;01mnot\u001b[39;00m no_val_X \u001b[38;5;129;01mand\u001b[39;00m check_params\u001b[38;5;241m.\u001b[39mget(\u001b[38;5;124m\"\u001b[39m\u001b[38;5;124mensure_2d\u001b[39m\u001b[38;5;124m\"\u001b[39m, \u001b[38;5;28;01mTrue\u001b[39;00m):\n",
      "File \u001b[1;32m~\\anaconda3\\lib\\site-packages\\sklearn\\utils\\validation.py:1074\u001b[0m, in \u001b[0;36mcheck_X_y\u001b[1;34m(X, y, accept_sparse, accept_large_sparse, dtype, order, copy, force_all_finite, ensure_2d, allow_nd, multi_output, ensure_min_samples, ensure_min_features, y_numeric, estimator)\u001b[0m\n\u001b[0;32m   1069\u001b[0m         estimator_name \u001b[38;5;241m=\u001b[39m _check_estimator_name(estimator)\n\u001b[0;32m   1070\u001b[0m     \u001b[38;5;28;01mraise\u001b[39;00m \u001b[38;5;167;01mValueError\u001b[39;00m(\n\u001b[0;32m   1071\u001b[0m         \u001b[38;5;124mf\u001b[39m\u001b[38;5;124m\"\u001b[39m\u001b[38;5;132;01m{\u001b[39;00mestimator_name\u001b[38;5;132;01m}\u001b[39;00m\u001b[38;5;124m requires y to be passed, but the target y is None\u001b[39m\u001b[38;5;124m\"\u001b[39m\n\u001b[0;32m   1072\u001b[0m     )\n\u001b[1;32m-> 1074\u001b[0m X \u001b[38;5;241m=\u001b[39m \u001b[43mcheck_array\u001b[49m\u001b[43m(\u001b[49m\n\u001b[0;32m   1075\u001b[0m \u001b[43m    \u001b[49m\u001b[43mX\u001b[49m\u001b[43m,\u001b[49m\n\u001b[0;32m   1076\u001b[0m \u001b[43m    \u001b[49m\u001b[43maccept_sparse\u001b[49m\u001b[38;5;241;43m=\u001b[39;49m\u001b[43maccept_sparse\u001b[49m\u001b[43m,\u001b[49m\n\u001b[0;32m   1077\u001b[0m \u001b[43m    \u001b[49m\u001b[43maccept_large_sparse\u001b[49m\u001b[38;5;241;43m=\u001b[39;49m\u001b[43maccept_large_sparse\u001b[49m\u001b[43m,\u001b[49m\n\u001b[0;32m   1078\u001b[0m \u001b[43m    \u001b[49m\u001b[43mdtype\u001b[49m\u001b[38;5;241;43m=\u001b[39;49m\u001b[43mdtype\u001b[49m\u001b[43m,\u001b[49m\n\u001b[0;32m   1079\u001b[0m \u001b[43m    \u001b[49m\u001b[43morder\u001b[49m\u001b[38;5;241;43m=\u001b[39;49m\u001b[43morder\u001b[49m\u001b[43m,\u001b[49m\n\u001b[0;32m   1080\u001b[0m \u001b[43m    \u001b[49m\u001b[43mcopy\u001b[49m\u001b[38;5;241;43m=\u001b[39;49m\u001b[43mcopy\u001b[49m\u001b[43m,\u001b[49m\n\u001b[0;32m   1081\u001b[0m \u001b[43m    \u001b[49m\u001b[43mforce_all_finite\u001b[49m\u001b[38;5;241;43m=\u001b[39;49m\u001b[43mforce_all_finite\u001b[49m\u001b[43m,\u001b[49m\n\u001b[0;32m   1082\u001b[0m \u001b[43m    \u001b[49m\u001b[43mensure_2d\u001b[49m\u001b[38;5;241;43m=\u001b[39;49m\u001b[43mensure_2d\u001b[49m\u001b[43m,\u001b[49m\n\u001b[0;32m   1083\u001b[0m \u001b[43m    \u001b[49m\u001b[43mallow_nd\u001b[49m\u001b[38;5;241;43m=\u001b[39;49m\u001b[43mallow_nd\u001b[49m\u001b[43m,\u001b[49m\n\u001b[0;32m   1084\u001b[0m \u001b[43m    \u001b[49m\u001b[43mensure_min_samples\u001b[49m\u001b[38;5;241;43m=\u001b[39;49m\u001b[43mensure_min_samples\u001b[49m\u001b[43m,\u001b[49m\n\u001b[0;32m   1085\u001b[0m \u001b[43m    \u001b[49m\u001b[43mensure_min_features\u001b[49m\u001b[38;5;241;43m=\u001b[39;49m\u001b[43mensure_min_features\u001b[49m\u001b[43m,\u001b[49m\n\u001b[0;32m   1086\u001b[0m \u001b[43m    \u001b[49m\u001b[43mestimator\u001b[49m\u001b[38;5;241;43m=\u001b[39;49m\u001b[43mestimator\u001b[49m\u001b[43m,\u001b[49m\n\u001b[0;32m   1087\u001b[0m \u001b[43m    \u001b[49m\u001b[43minput_name\u001b[49m\u001b[38;5;241;43m=\u001b[39;49m\u001b[38;5;124;43m\"\u001b[39;49m\u001b[38;5;124;43mX\u001b[39;49m\u001b[38;5;124;43m\"\u001b[39;49m\u001b[43m,\u001b[49m\n\u001b[0;32m   1088\u001b[0m \u001b[43m\u001b[49m\u001b[43m)\u001b[49m\n\u001b[0;32m   1090\u001b[0m y \u001b[38;5;241m=\u001b[39m _check_y(y, multi_output\u001b[38;5;241m=\u001b[39mmulti_output, y_numeric\u001b[38;5;241m=\u001b[39my_numeric, estimator\u001b[38;5;241m=\u001b[39mestimator)\n\u001b[0;32m   1092\u001b[0m check_consistent_length(X, y)\n",
      "File \u001b[1;32m~\\anaconda3\\lib\\site-packages\\sklearn\\utils\\validation.py:918\u001b[0m, in \u001b[0;36mcheck_array\u001b[1;34m(array, accept_sparse, accept_large_sparse, dtype, order, copy, force_all_finite, ensure_2d, allow_nd, ensure_min_samples, ensure_min_features, estimator, input_name)\u001b[0m\n\u001b[0;32m    916\u001b[0m     n_features \u001b[38;5;241m=\u001b[39m array\u001b[38;5;241m.\u001b[39mshape[\u001b[38;5;241m1\u001b[39m]\n\u001b[0;32m    917\u001b[0m     \u001b[38;5;28;01mif\u001b[39;00m n_features \u001b[38;5;241m<\u001b[39m ensure_min_features:\n\u001b[1;32m--> 918\u001b[0m         \u001b[38;5;28;01mraise\u001b[39;00m \u001b[38;5;167;01mValueError\u001b[39;00m(\n\u001b[0;32m    919\u001b[0m             \u001b[38;5;124m\"\u001b[39m\u001b[38;5;124mFound array with \u001b[39m\u001b[38;5;132;01m%d\u001b[39;00m\u001b[38;5;124m feature(s) (shape=\u001b[39m\u001b[38;5;132;01m%s\u001b[39;00m\u001b[38;5;124m) while\u001b[39m\u001b[38;5;124m\"\u001b[39m\n\u001b[0;32m    920\u001b[0m             \u001b[38;5;124m\"\u001b[39m\u001b[38;5;124m a minimum of \u001b[39m\u001b[38;5;132;01m%d\u001b[39;00m\u001b[38;5;124m is required\u001b[39m\u001b[38;5;132;01m%s\u001b[39;00m\u001b[38;5;124m.\u001b[39m\u001b[38;5;124m\"\u001b[39m\n\u001b[0;32m    921\u001b[0m             \u001b[38;5;241m%\u001b[39m (n_features, array\u001b[38;5;241m.\u001b[39mshape, ensure_min_features, context)\n\u001b[0;32m    922\u001b[0m         )\n\u001b[0;32m    924\u001b[0m \u001b[38;5;28;01mif\u001b[39;00m copy \u001b[38;5;129;01mand\u001b[39;00m np\u001b[38;5;241m.\u001b[39mmay_share_memory(array, array_orig):\n\u001b[0;32m    925\u001b[0m     array \u001b[38;5;241m=\u001b[39m np\u001b[38;5;241m.\u001b[39marray(array, dtype\u001b[38;5;241m=\u001b[39mdtype, order\u001b[38;5;241m=\u001b[39morder)\n",
      "\u001b[1;31mValueError\u001b[0m: Found array with 0 feature(s) (shape=(1000, 0)) while a minimum of 1 is required by LinearRegression."
     ]
    }
   ],
   "source": [
    "%%capture\n",
    "\n",
    "data_non_ok = map_critere_non_ok.copy() \n",
    "\n",
    "start = time()\n",
    "nb_rep = 256\n",
    "nb_mu = 50 # nu\n",
    "m = 128\n",
    "\n",
    "mu_range = np.exp(- np.linspace(0, 15, nb_mu))\n",
    "final_grid_non_ok = np.zeros((16, nb_mu))\n",
    "\n",
    "@jit(parallel=True)\n",
    "def bolasso_it(X, y):   \n",
    "    intermediate_grid = np.zeros((16, nb_mu))\n",
    "    for k in range(nb_mu):\n",
    "        mu = mu_range[k]\n",
    "        res = bolasso(X, y, m=m, mu=mu)\n",
    "        coef = res[\"coef\"] \n",
    "        intermediate_grid[:,k] = (coef != 0)*1\n",
    "    return intermediate_grid\n",
    "\n",
    "list_grid_non_ok = []\n",
    "list_X_non_ok = data_non_ok['X']\n",
    "list_Y_non_ok = data_non_ok['Y']\n",
    "\n",
    "for X, y in tqdm(zip(list_X_non_ok, list_Y_non_ok)):\n",
    "    list_grid_non_ok.append(bolasso_it(X, y))\n",
    "        \n",
    "list_grid_non_ok = np.array(list_grid_non_ok)\n",
    "final_grid_non_ok = np.sum(list_grid_non_ok, axis = 0)\n",
    "end = time()"
   ]
  },
  {
   "cell_type": "code",
   "execution_count": 11,
   "metadata": {},
   "outputs": [
    {
     "name": "stdout",
     "output_type": "stream",
     "text": [
      "temps d'execution -0.8667986392974854 , \n",
      "temps par rep: -0.003385932184755802\n"
     ]
    }
   ],
   "source": [
    "print(f\"temps d'execution {end - start} , \\ntemps par rep: {(end - start)/nb_rep}\")"
   ]
  },
  {
   "cell_type": "code",
   "execution_count": 15,
   "metadata": {},
   "outputs": [
    {
     "name": "stderr",
     "output_type": "stream",
     "text": [
      "C:\\Users\\baptc\\anaconda3\\lib\\site-packages\\matplotlib\\text.py:1223: FutureWarning: elementwise comparison failed; returning scalar instead, but in the future will perform elementwise comparison\n",
      "  if s != self._text:\n"
     ]
    },
    {
     "data": {
      "text/plain": [
       "''"
      ]
     },
     "execution_count": 15,
     "metadata": {},
     "output_type": "execute_result"
    },
    {
     "data": {
      "image/png": "[encoded data removed]",
      "text/plain": [
       "<Figure size 720x720 with 1 Axes>"
      ]
     },
     "metadata": {
      "needs_background": "light"
     },
     "output_type": "display_data"
    }
   ],
   "source": [
    "figure = plt.figure(figsize=(10,10))\n",
    "plt.imshow(1 - final_grid_non_ok / nb_rep, cmap=\"Greys\", vmin=0, vmax=1)\n",
    "ax = plt.gca()\n",
    "\n",
    "# the x-axis\n",
    "ax.set_xticks(range(nb_mu))\n",
    "ax.set_xlabel(np.linspace(0, 15, 10))\n",
    "ax.set_xlabel(\"$-log(\\mu)$\")\n",
    "\n",
    "d = dict(zip([0, 25, 49], [0, 5, 15]))\n",
    "\n",
    "x_label_list = [str(d[i]) if i in [0, 25, 49] else str(\"\") for i in range(nb_mu)]\n",
    "ax.set_xticklabels(x_label_list)\n",
    "ax.set_ylabel(\"Variable index\")\n",
    ";"
   ]
  },
  {
   "cell_type": "code",
   "execution_count": null,
   "metadata": {},
   "outputs": [],
   "source": []
  }
 ],
 "metadata": {
  "kernelspec": {
   "display_name": "Python 3 (ipykernel)",
   "language": "python",
   "name": "python3"
  },
  "language_info": {
   "codemirror_mode": {
    "name": "ipython",
    "version": 3
   },
   "file_extension": ".py",
   "mimetype": "text/x-python",
   "name": "python",
   "nbconvert_exporter": "python",
   "pygments_lexer": "ipython3",
   "version": "3.7.13"
  },
  "vscode": {
   "interpreter": {
    "hash": "2d610bfb5330843e52c6b1e4272056feeee60e4b747e8cd36530d5e655bea6e2"
   }
  }
 },
 "nbformat": 4,
 "nbformat_minor": 2
}
